{
 "cells": [
  {
   "cell_type": "markdown",
   "metadata": {},
   "source": [
    "1) Abrir el archivo \"Emisiones_CO2.csv\" y cargar sus datos en un diccionario."
   ]
  },
  {
   "cell_type": "code",
   "execution_count": 1,
   "metadata": {},
   "outputs": [],
   "source": [
    "# tenemos que abrir el archivo csv asi:\n",
    "import os  \n",
    "archivo = open('Emisiones_CO2.csv', 'r', encoding='latin-1')"
   ]
  },
  {
   "cell_type": "code",
   "execution_count": 2,
   "metadata": {},
   "outputs": [],
   "source": [
    "# ahora creo un diccionario (un diccionario es una estructura de clave - valor)\n",
    "# cod_pais, nom_pais, region, anio, co2, co2_percapita son las cabeceras de nuestro archivo csv, a cada uno le corresponde una columna\n",
    "dicc_emisiones = {  'cod_pais' : [],\n",
    "                    'nom_pais' : [],\n",
    "                    'region' : [],\n",
    "                    'anio' : [],\n",
    "                    'co2' : [],\n",
    "                    'co2_percapita' : []}"
   ]
  },
  {
   "cell_type": "code",
   "execution_count": 3,
   "metadata": {},
   "outputs": [],
   "source": [
    "# Opción 1 \n",
    "next(archivo)  # salta la primera linea que tiene la cabecera\n",
    "for linea in archivo: # aqui el archivo recorre todas las lineas, cada linea es una cadena de texto\n",
    "    linea = linea.strip()   # strip elimina espacios vacios de los extremos, se puede especificar si se quiere eliminar solo espacios de la derecha o de la izquierda o ambos\n",
    "    campos = linea.split('|')  # split separa donde encuentar una linea vertical (o  lo que uno sepecifique)y devuelve una lista\n",
    "    dicc_emisiones['cod_pais'].append(campos[0]) # entro al diccionario,al indice 0\n",
    "    dicc_emisiones['nom_pais'].append(campos[1]) # entro al diccionario,al indice 1\n",
    "    dicc_emisiones['region'].append(campos[2])  # entro al diccionario,al indice 2\n",
    "    dicc_emisiones['anio'].append(campos[3])  # entro al diccionario,al indice 3\n",
    "    dicc_emisiones['co2'].append(campos[4])  # entro al diccionario,al indice 4\n",
    "    dicc_emisiones['co2_percapita'].append(campos[5]) # entro al diccionario,al indice 5\n",
    "    "
   ]
  },
  {
   "cell_type": "code",
   "execution_count": 4,
   "metadata": {},
   "outputs": [],
   "source": [
    "# Opción 2 (ota opcion que hace lo mismo que la opcion 1)\n",
    "encabezado = True\n",
    "for linea in archivo:\n",
    "    if (not encabezado):\n",
    "        campos = linea.split(sep='|')\n",
    "        dicc_emisiones['cod_pais'].append(campos[0])\n",
    "        dicc_emisiones['nom_pais'].append(campos[1])\n",
    "        dicc_emisiones['region'].append(campos[2])\n",
    "        dicc_emisiones['anio'].append(campos[3])\n",
    "        dicc_emisiones['co2'].append(campos[4])\n",
    "        dicc_emisiones['co2_percapita'].append(campos[5])\n",
    "    else:\n",
    "        encabezado = False"
   ]
  },
  {
   "cell_type": "code",
   "execution_count": 5,
   "metadata": {},
   "outputs": [],
   "source": [
    "archivo.close()  # cierra el archivo"
   ]
  },
  {
   "cell_type": "markdown",
   "metadata": {},
   "source": [
    "2) a) ¿Cuántas variables hay? <br>\n",
    "b) ¿Qué tipos de datos usar para cada una? <br>\n",
    "c) ¿Qué tipo de variables son? <br>\n",
    "d) ¿Hay valores faltantes? <br>\n",
    "e) ¿Cuál es el total de emisiones de CO2 para 'América Latina y Caribe' en el año 2010?"
   ]
  },
  {
   "cell_type": "code",
   "execution_count": 6,
   "metadata": {},
   "outputs": [
    {
     "name": "stdout",
     "output_type": "stream",
     "text": [
      "100\n",
      "AND\n",
      "Andorra\n",
      "Europa y Asia Central\n",
      "2008\n",
      "539,049\n",
      "6,296124556\n"
     ]
    }
   ],
   "source": [
    "# cuantas variables hay\n",
    "#vimos que son 6 variables (las naranjas, las variables son las columnas del archivo csv)\n",
    "\n",
    "i = 100  #da los datos de la linea 100(fila)\n",
    "print(i)\n",
    "print(dicc_emisiones['cod_pais'][i])  # con esto entro al diccionario, y dentro de codigo pais tomo el que esta almacenado como dato 100 (i=100), me dara todo lo que esta almacenado en la linea 100\n",
    "print(dicc_emisiones['nom_pais'][i])\n",
    "print(dicc_emisiones['region'][i])\n",
    "print(dicc_emisiones['anio'][i])\n",
    "print(dicc_emisiones['co2'][i])\n",
    "print(dicc_emisiones['co2_percapita'][i])"
   ]
  },
  {
   "cell_type": "code",
   "execution_count": 7,
   "metadata": {},
   "outputs": [],
   "source": [
    "# que tipos de variables son?( hace referencia a los tipos de datos) \n",
    "# existen datos cuantitativos: discretos(numeros enteros) y continuos(numeros decimales)\n",
    "# existen datos cualitativos: categoricos (cualquier cosa) y ordinales (los que mantienen un orden)\n",
    "# en el ejercicio algunos datos son categoricos como AND, Andorra,Europa y Asia central, otros son numericos como 100, 2008 y otros son enteros, flotantes"
   ]
  },
  {
   "cell_type": "code",
   "execution_count": 8,
   "metadata": {},
   "outputs": [],
   "source": [
    "# hay valores faltantes?\n",
    "# tenemos que darle el formato correcto\n",
    "\n",
    "for indice, elemento in enumerate(dicc_emisiones['co2']): # entro al diccionario, el enumerate me devuelve el elemento y me devuelve el indice de una lista. Estoy en la columna CO2 QUE A VECES TIENE PUNTOS\n",
    "    elemento = elemento.replace('.','') # aqui decimos que en la columna CO2 en los datos que tienen un punto se reemplace con un espacio\n",
    "    elemento = elemento.replace(',','.') # aqui decimos que en la columna CO2 en los datos que tienen una coma se reemplace con un punto\n",
    "    if (elemento != ''): # si el elemento es distinto de vacio o sea si tiene datos \n",
    "        elemento = float(elemento) # lo convierto en flotante, cuando cambio tipos de datos se llama casteo o cast(convertir un tipo de dato a otro tipo de dato)\n",
    "    else:\n",
    "        elemento = None\n",
    "    dicc_emisiones['co2'][indice] = elemento # aqui corrijo la informacion, sobreescribo la informacion"
   ]
  },
  {
   "cell_type": "code",
   "execution_count": 9,
   "metadata": {},
   "outputs": [],
   "source": [
    "# aqui lo mismo que hice para CO2 hago para CO2 percapita \n",
    "for indice, elemento in enumerate(dicc_emisiones['co2_percapita']):\n",
    "    elemento = elemento.replace('\\n','')\n",
    "    elemento = elemento.replace('.','')\n",
    "    elemento = elemento.replace(',','.')\n",
    "    if (elemento != ''):\n",
    "        elemento = float(elemento)\n",
    "    else:\n",
    "        elemento = None\n",
    "    dicc_emisiones['co2_percapita'][indice] = elemento"
   ]
  },
  {
   "cell_type": "code",
   "execution_count": 10,
   "metadata": {},
   "outputs": [
    {
     "name": "stdout",
     "output_type": "stream",
     "text": [
      "Las emisiones en América Latina y Caribe en 2010 fueron de 1691634.8009999995 kt\n"
     ]
    }
   ],
   "source": [
    "# cual es el total de emisones de co2 para america latina y caribe en el 2010\n",
    "# primero debemos filtrar la data y luego sacar una sumatoria de todas las emisiones\n",
    "\n",
    "filtro_region = 'América Latina y Caribe' # aplico filtro porque me piden emisiones de co2 de america latina y caribe\n",
    "filtro_anio = '2010'  # aplico filtro porque me piden del 2010\n",
    "emisiones = 0\n",
    "for indice, elemento in enumerate(dicc_emisiones['region']):\n",
    "    if (dicc_emisiones['region'][indice] == filtro_region): # con esta linea filtramos que toda la data sea de america latina y caribe\n",
    "        if (dicc_emisiones['anio'][indice] == filtro_anio): # con esta linea filtramos el año\n",
    "            if (dicc_emisiones['co2'][indice] != None): # filtramos los datos que son distintos de vacio\n",
    "                emisiones += dicc_emisiones['co2'][indice] # ahora sumamos las emisiones de CO2\n",
    "print('Las emisiones en', filtro_region, 'en', filtro_anio, 'fueron de',emisiones,'kt') # mostramos las emisiones de CO2 en kilotoneladas kt"
   ]
  }
 ],
 "metadata": {
  "kernelspec": {
   "display_name": "Python 3.11.3 64-bit",
   "language": "python",
   "name": "python3"
  },
  "language_info": {
   "codemirror_mode": {
    "name": "ipython",
    "version": 3
   },
   "file_extension": ".py",
   "mimetype": "text/x-python",
   "name": "python",
   "nbconvert_exporter": "python",
   "pygments_lexer": "ipython3",
   "version": "3.9.2"
  },
  "orig_nbformat": 4,
  "vscode": {
   "interpreter": {
    "hash": "52634da84371cba311ea128a5ea7cdc41ff074b781779e754b270ff9f8153cee"
   }
  }
 },
 "nbformat": 4,
 "nbformat_minor": 2
}
